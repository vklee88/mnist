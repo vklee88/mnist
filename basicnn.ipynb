{
 "cells": [
  {
   "cell_type": "code",
   "execution_count": 21,
   "metadata": {},
   "outputs": [],
   "source": [
    "import numpy as np\n",
    "import sklearn.model_selection\n",
    "import pandas as pd\n",
    "import tensorflow as tf\n",
    "from tensorflow.keras import layers"
   ]
  },
  {
   "cell_type": "code",
   "execution_count": 22,
   "metadata": {},
   "outputs": [],
   "source": [
    "data = pd.read_csv('train.csv')"
   ]
  },
  {
   "cell_type": "code",
   "execution_count": 23,
   "metadata": {},
   "outputs": [],
   "source": [
    "train, val = sklearn.model_selection.train_test_split(data)"
   ]
  },
  {
   "cell_type": "code",
   "execution_count": 24,
   "metadata": {
    "scrolled": true
   },
   "outputs": [],
   "source": [
    "train_X, train_cat_y = train.drop('label', axis=1).values, train['label'].values\n",
    "val_X, val_cat_y = val.drop('label', axis=1).values, val['label'].values"
   ]
  },
  {
   "cell_type": "code",
   "execution_count": 25,
   "metadata": {},
   "outputs": [],
   "source": [
    "def one_hot(label, categories=10):\n",
    "    ret_val = np.zeros(categories)\n",
    "    ret_val[label] = 1\n",
    "    return ret_val\n",
    "\n",
    "train_y = np.zeros((len(train_X), 10))\n",
    "val_y = np.zeros((len(val_X), 10))\n",
    "\n",
    "for i in range(len(train_y)):\n",
    "    train_y[i] = one_hot(train_cat_y[i])\n",
    "\n",
    "for i in range(len(val_y)):\n",
    "    val_y[i] = one_hot(val_cat_y[i])"
   ]
  },
  {
   "cell_type": "code",
   "execution_count": 52,
   "metadata": {},
   "outputs": [],
   "source": [
    "def to_2D(one_d):\n",
    "    return one_d.reshape(len(one_d),28,28)\n",
    "\n",
    "train_X = to_2D(train_X)\n",
    "val_X = to_2D(val_X)"
   ]
  },
  {
   "cell_type": "code",
   "execution_count": 59,
   "metadata": {},
   "outputs": [],
   "source": [
    "model = tf.keras.Sequential()\n",
    "\n",
    "model.add(layers.Conv1D(64, kernel_size=3, activation='relu', input_shape=(28,28)))\n",
    "model.add(layers.Conv1D(32, kernel_size=3, activation='relu'))\n",
    "model.add(layers.Flatten())\n",
    "model.add(layers.Dense(16, activation='relu'))\n",
    "model.add(layers.Dense(10, activation='softmax'))"
   ]
  },
  {
   "cell_type": "code",
   "execution_count": 60,
   "metadata": {},
   "outputs": [],
   "source": [
    "model.compile(optimizer=tf.train.AdamOptimizer(0.001),\n",
    "              loss='categorical_crossentropy',\n",
    "              metrics=['accuracy'])"
   ]
  },
  {
   "cell_type": "code",
   "execution_count": 63,
   "metadata": {},
   "outputs": [
    {
     "name": "stdout",
     "output_type": "stream",
     "text": [
      "Train on 31500 samples, validate on 10500 samples\n",
      "Epoch 1/10\n",
      "31500/31500 [==============================] - 9s 271us/step - loss: 0.0358 - acc: 0.9905 - val_loss: 0.1265 - val_acc: 0.9757\n",
      "Epoch 2/10\n",
      "31500/31500 [==============================] - 10s 308us/step - loss: 0.0262 - acc: 0.9930 - val_loss: 0.1515 - val_acc: 0.9719\n",
      "Epoch 3/10\n",
      "31500/31500 [==============================] - 8s 269us/step - loss: 0.0360 - acc: 0.9910 - val_loss: 0.2089 - val_acc: 0.9627\n",
      "Epoch 4/10\n",
      "31500/31500 [==============================] - 8s 269us/step - loss: 0.0407 - acc: 0.9898 - val_loss: 0.1634 - val_acc: 0.9735\n",
      "Epoch 5/10\n",
      "31500/31500 [==============================] - 9s 274us/step - loss: 0.0283 - acc: 0.9925 - val_loss: 0.1587 - val_acc: 0.9755\n",
      "Epoch 6/10\n",
      "31500/31500 [==============================] - 9s 277us/step - loss: 0.0293 - acc: 0.9934 - val_loss: 0.1884 - val_acc: 0.9721\n",
      "Epoch 7/10\n",
      "31500/31500 [==============================] - 8s 268us/step - loss: 0.0336 - acc: 0.9915 - val_loss: 0.1656 - val_acc: 0.9759\n",
      "Epoch 8/10\n",
      "31500/31500 [==============================] - 9s 281us/step - loss: 0.0313 - acc: 0.9924 - val_loss: 0.1705 - val_acc: 0.9759\n",
      "Epoch 9/10\n",
      "31500/31500 [==============================] - 9s 298us/step - loss: 0.0301 - acc: 0.9929 - val_loss: 0.1785 - val_acc: 0.9748\n",
      "Epoch 10/10\n",
      "31500/31500 [==============================] - 10s 304us/step - loss: 0.0309 - acc: 0.9925 - val_loss: 0.1775 - val_acc: 0.9733\n"
     ]
    },
    {
     "data": {
      "text/plain": [
       "<tensorflow.python.keras.callbacks.History at 0x1b0010002e8>"
      ]
     },
     "execution_count": 63,
     "metadata": {},
     "output_type": "execute_result"
    }
   ],
   "source": [
    "model.fit(train_X, train_y, epochs=30, batch_size=32, \n",
    "          validation_data=(val_X, val_y))"
   ]
  },
  {
   "cell_type": "code",
   "execution_count": 64,
   "metadata": {},
   "outputs": [],
   "source": [
    "# test data\n",
    "test_data = pd.read_csv('test.csv')\n",
    "test_X = to_2D(test_data.values)"
   ]
  },
  {
   "cell_type": "code",
   "execution_count": 65,
   "metadata": {},
   "outputs": [],
   "source": [
    "y_pred = model.predict(test_X)"
   ]
  },
  {
   "cell_type": "code",
   "execution_count": 66,
   "metadata": {},
   "outputs": [],
   "source": [
    "y_cat_pred = []\n",
    "\n",
    "for i in range(len(y_pred)):\n",
    "    y_cat_pred.append([int(i + 1), int(np.argmax(y_pred[i]))])"
   ]
  },
  {
   "cell_type": "code",
   "execution_count": 67,
   "metadata": {},
   "outputs": [],
   "source": [
    "import csv\n",
    "\n",
    "with open('predictions.csv', 'w') as out_file:\n",
    "    writer = csv.writer(out_file)\n",
    "    writer.writerow(['ImageId', 'Label'])\n",
    "    for row in y_cat_pred:\n",
    "        writer.writerow(row)"
   ]
  },
  {
   "cell_type": "code",
   "execution_count": null,
   "metadata": {},
   "outputs": [],
   "source": []
  }
 ],
 "metadata": {
  "kernelspec": {
   "display_name": "Python [conda env:tf_env]",
   "language": "python",
   "name": "conda-env-tf_env-py"
  },
  "language_info": {
   "codemirror_mode": {
    "name": "ipython",
    "version": 3
   },
   "file_extension": ".py",
   "mimetype": "text/x-python",
   "name": "python",
   "nbconvert_exporter": "python",
   "pygments_lexer": "ipython3",
   "version": "3.6.8"
  }
 },
 "nbformat": 4,
 "nbformat_minor": 2
}
